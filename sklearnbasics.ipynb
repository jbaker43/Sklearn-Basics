{
 "cells": [
  {
   "cell_type": "code",
   "execution_count": 3,
   "id": "6ebbecff-8d30-4a8a-b7e1-4f6ed87d38a2",
   "metadata": {},
   "outputs": [],
   "source": [
    "import numpy as np\n",
    "french_file = open(\"french.txt\", encoding=\"utf8\")\n",
    "german_file = open(\"german.txt\" )\n",
    "english_file = open(\"english.txt\")"
   ]
  },
  {
   "cell_type": "code",
   "execution_count": 4,
   "id": "b40487de-ac57-4e26-9788-353875ea5bda",
   "metadata": {},
   "outputs": [],
   "source": [
    "french_lines = french_file.readlines()\n",
    "german_lines = german_file.readlines()\n",
    "english_lines = english_file.readlines()\n",
    "\n",
    "def readlines(lines, label): \n",
    "    data = []\n",
    "    for line in lines:\n",
    "        line = line.replace('\\n', '')\n",
    "\n",
    "        if len(line) == 5:\n",
    "            data.append([ord(char) for char in line] + [label])\n",
    "    return data\n",
    "\n",
    "french_data = readlines(french_lines, 0)\n",
    "german_data = readlines(german_lines, 1)\n",
    "english_data = readlines(english_lines, 2)"
   ]
  },
  {
   "cell_type": "code",
   "execution_count": 5,
   "id": "471d8d50-bf9d-42e2-a204-ca5559b33ef0",
   "metadata": {},
   "outputs": [
    {
     "name": "stdout",
     "output_type": "stream",
     "text": [
      "[[ 97  98  97 116 115   0]\n",
      " [ 97  98  98 233 115   0]\n",
      " [ 97  98  99 232 115   0]\n",
      " ...\n",
      " [122 121 103 111 110   2]\n",
      " [122 121 109 101 115   2]\n",
      " [122 121 109 105  99   2]]\n"
     ]
    }
   ],
   "source": [
    "data = np.concatenate([french_data, german_data, english_data])\n",
    "print(data)"
   ]
  },
  {
   "cell_type": "code",
   "execution_count": 6,
   "id": "d1a8eb37-ea16-495b-8e34-977d2e998d3c",
   "metadata": {},
   "outputs": [],
   "source": [
    "from sklearn.model_selection import train_test_split\n",
    "X = data[:,:-1]\n",
    "y = data[:,-1]\n",
    "X_train, X_test, y_train, y_test = train_test_split(X, y, test_size = 0.2, random_state = 42, stratify = y)"
   ]
  },
  {
   "cell_type": "code",
   "execution_count": 7,
   "id": "3c11d252-b681-4806-9a7e-8f5787870021",
   "metadata": {},
   "outputs": [],
   "source": [
    "from sklearn.neighbors import KNeighborsClassifier\n",
    "from sklearn import svm\n",
    "from sklearn.neural_network import MLPClassifier\n",
    "\n",
    "knn_model = KNeighborsClassifier()\n",
    "svm_model = svm.SVC()\n",
    "mlp_nn = MLPClassifier()\n"
   ]
  },
  {
   "cell_type": "code",
   "execution_count": 8,
   "id": "0a604df5-2481-49f5-8dc7-f4208912624a",
   "metadata": {},
   "outputs": [
    {
     "data": {
      "text/plain": [
       "MLPClassifier()"
      ]
     },
     "execution_count": 8,
     "metadata": {},
     "output_type": "execute_result"
    }
   ],
   "source": [
    "knn_model.fit(X_train ,y_train)\n",
    "svm_model.fit(X_train ,y_train)\n",
    "mlp_nn.fit(X_train ,y_train)"
   ]
  },
  {
   "cell_type": "code",
   "execution_count": 9,
   "id": "34ce2801-f4b3-4f7c-8391-2725e55bcf22",
   "metadata": {},
   "outputs": [
    {
     "name": "stdout",
     "output_type": "stream",
     "text": [
      "Model Predictions\n",
      "KNN =  [2 0 2 ... 2 2 2]\n",
      "SVM =  [2 2 2 ... 2 2 2]\n",
      "MLP =  [2 2 2 ... 2 2 2]\n"
     ]
    }
   ],
   "source": [
    "knn = (knn_model.predict(X_test)) \n",
    "svm = (svm_model.predict(X_test)) \n",
    "mlp =(mlp_nn.predict(X_test)) \n",
    "print(\"Model Predictions\")\n",
    "print(\"KNN = \", knn)\n",
    "print(\"SVM = \", svm)\n",
    "print(\"MLP = \", mlp) #fixed\n"
   ]
  },
  {
   "cell_type": "code",
   "execution_count": 10,
   "id": "30bbd870-4528-4952-b3aa-387ffa7a9eb6",
   "metadata": {},
   "outputs": [
    {
     "name": "stdout",
     "output_type": "stream",
     "text": [
      "Model Accuracy\n",
      "KNN = 73.6986301369863\n",
      "svm = 76.08219178082192\n",
      "mlp = 76.05479452054794\n"
     ]
    }
   ],
   "source": [
    "from sklearn.metrics import accuracy_score\n",
    "knn1 = accuracy_score(y_test, knn)\n",
    "svm1 = accuracy_score(y_test, svm)\n",
    "mpl1 = accuracy_score(y_test, mlp) #fixed\n",
    "print(\"Model Accuracy\")\n",
    "print(\"KNN =\", knn1*100)\n",
    "print(\"svm =\", svm1*100)\n",
    "print(\"mlp =\", mpl1*100)"
   ]
  },
  {
   "cell_type": "code",
   "execution_count": 11,
   "id": "4866af24-b64f-4199-8d0d-fd44401c1768",
   "metadata": {},
   "outputs": [
    {
     "data": {
      "image/png": "[encoded data removed]",
      "text/plain": [
       "<Figure size 432x288 with 1 Axes>"
      ]
     },
     "metadata": {
      "needs_background": "light"
     },
     "output_type": "display_data"
    }
   ],
   "source": [
    "### import numpy as np\n",
    "import matplotlib.pyplot as plt\n",
    "\n",
    "# Label text for each graph\n",
    "labels = (\"KNN\", \"SVM\", \"MLP\")\n",
    "\n",
    "# Numbers that you want the bars to represent\n",
    "value = [67.58, 71.58, 69.77]\n",
    "\n",
    "# Title of the plot\n",
    "plt.title(\"Model Accuracy\")\n",
    "\n",
    "# Label for the x values of the bar graph\n",
    "plt.xlabel(\"Accuracy\")\n",
    "\n",
    "# Drawing the bar graph\n",
    "y_pos = np.arange(len(labels))\n",
    "plt.barh(y_pos, value, align=\"center\", alpha=0.5)\n",
    "plt.yticks(y_pos, labels)\n",
    "\n",
    "# Display the graph\n",
    "plt.show()"
   ]
  },
  {
   "cell_type": "code",
   "execution_count": null,
   "id": "1e401c3b-5d83-4772-82ff-78e9329a3d12",
   "metadata": {},
   "outputs": [],
   "source": []
  },
  {
   "cell_type": "code",
   "execution_count": null,
   "id": "be9ec78f-0975-4f4b-9817-10e9c5abb8b7",
   "metadata": {},
   "outputs": [],
   "source": []
  },
  {
   "cell_type": "code",
   "execution_count": null,
   "id": "ecd57f05-b966-47dc-8564-d30d658baec7",
   "metadata": {},
   "outputs": [],
   "source": []
  },
  {
   "cell_type": "code",
   "execution_count": null,
   "id": "48c0ab5b-780b-4526-ba09-b57288237ddf",
   "metadata": {},
   "outputs": [],
   "source": []
  },
  {
   "cell_type": "code",
   "execution_count": null,
   "id": "cd00b255-92c4-4dce-afbf-74da84fd24a5",
   "metadata": {},
   "outputs": [],
   "source": []
  },
  {
   "cell_type": "code",
   "execution_count": null,
   "id": "9e608f60-7aa6-419c-a13c-e8585be04996",
   "metadata": {},
   "outputs": [],
   "source": []
  },
  {
   "cell_type": "code",
   "execution_count": null,
   "id": "b92c5305-3d46-4509-9690-a1df10a8c94d",
   "metadata": {},
   "outputs": [],
   "source": []
  },
  {
   "cell_type": "code",
   "execution_count": null,
   "id": "ac6b3dee-594b-4bb5-8962-54f2dbb737bc",
   "metadata": {},
   "outputs": [],
   "source": []
  },
  {
   "cell_type": "code",
   "execution_count": null,
   "id": "ac5f8b02-bb17-4b92-9bfa-4c63a00ad2f9",
   "metadata": {},
   "outputs": [],
   "source": []
  },
  {
   "cell_type": "code",
   "execution_count": null,
   "id": "6a399ba3-3faa-4e41-89d0-4f501c85bc06",
   "metadata": {},
   "outputs": [],
   "source": []
  }
 ],
 "metadata": {
  "kernelspec": {
   "display_name": "Python 3 (ipykernel)",
   "language": "python",
   "name": "python3"
  },
  "language_info": {
   "codemirror_mode": {
    "name": "ipython",
    "version": 3
   },
   "file_extension": ".py",
   "mimetype": "text/x-python",
   "name": "python",
   "nbconvert_exporter": "python",
   "pygments_lexer": "ipython3",
   "version": "3.9.7"
  }
 },
 "nbformat": 4,
 "nbformat_minor": 5
}
